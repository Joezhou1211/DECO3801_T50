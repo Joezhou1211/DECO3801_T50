{
 "cells": [
  {
   "metadata": {
    "ExecuteTime": {
     "end_time": "2024-08-18T14:56:58.066019Z",
     "start_time": "2024-08-18T14:56:50.060615Z"
    }
   },
   "cell_type": "code",
   "source": [
    "from transformers import pipeline\n",
    "\n",
    "# Load the fake news detection model\n",
    "clf = pipeline(\"text-classification\", model=\"jy46604790/Fake-News-Bert-Detect\")"
   ],
   "id": "2aeb949c99a0b354",
   "outputs": [
    {
     "name": "stderr",
     "output_type": "stream",
     "text": [
      "/Library/Frameworks/Python.framework/Versions/3.11/lib/python3.11/site-packages/transformers/tokenization_utils_base.py:1601: FutureWarning: `clean_up_tokenization_spaces` was not set. It will be set to `True` by default. This behavior will be depracted in transformers v4.45, and will be then set to `False` by default. For more details check this issue: https://github.com/huggingface/transformers/issues/31884\n",
      "  warnings.warn(\n",
      "Hardware accelerator e.g. GPU is available in the environment, but no `device` argument is passed to the `Pipeline` object. Model will be on CPU.\n"
     ]
    }
   ],
   "execution_count": 1
  },
  {
   "metadata": {
    "ExecuteTime": {
     "end_time": "2024-08-18T14:57:17.725857Z",
     "start_time": "2024-08-18T14:57:16.519188Z"
    }
   },
   "cell_type": "code",
   "source": [
    "# test the model\n",
    "text = \"Indonesian police have recaptured a U.S. citizen who escaped a week ago from an overcrowded prison...\"\n",
    "result = clf(text)\n",
    "print(result)"
   ],
   "id": "f523e817836d8396",
   "outputs": [
    {
     "name": "stdout",
     "output_type": "stream",
     "text": [
      "[{'label': 'LABEL_1', 'score': 0.999707043170929}]\n"
     ]
    }
   ],
   "execution_count": 2
  },
  {
   "metadata": {
    "ExecuteTime": {
     "end_time": "2024-08-18T14:57:24.562297Z",
     "start_time": "2024-08-18T14:57:21.087499Z"
    }
   },
   "cell_type": "code",
   "source": [
    "import pandas as pd\n",
    "df = pd.read_json('../../data/processed/final_data(filtered).json')"
   ],
   "id": "470d331a9d158bd5",
   "outputs": [],
   "execution_count": 3
  },
  {
   "metadata": {
    "ExecuteTime": {
     "end_time": "2024-08-18T15:04:41.048391Z",
     "start_time": "2024-08-18T15:04:40.988382Z"
    }
   },
   "cell_type": "code",
   "source": "text = df['display_text'].head(100)",
   "id": "5f3d87e9eaacdd25",
   "outputs": [],
   "execution_count": 13
  },
  {
   "metadata": {
    "ExecuteTime": {
     "end_time": "2024-08-18T15:07:21.107872Z",
     "start_time": "2024-08-18T15:06:10.727470Z"
    }
   },
   "cell_type": "code",
   "source": [
    "# try predict the first 100 data\n",
    "result = clf(text.tolist())\n",
    "result_df = pd.DataFrame(result)"
   ],
   "id": "d6ef562785df864f",
   "outputs": [],
   "execution_count": 15
  },
  {
   "metadata": {
    "ExecuteTime": {
     "end_time": "2024-08-18T15:07:29.297754Z",
     "start_time": "2024-08-18T15:07:29.249878Z"
    }
   },
   "cell_type": "code",
   "source": "result_df",
   "id": "7db3a644ba64fb2b",
   "outputs": [
    {
     "data": {
      "text/plain": [
       "       label     score\n",
       "0    LABEL_0  0.997660\n",
       "1    LABEL_0  0.945867\n",
       "2    LABEL_0  0.998233\n",
       "3    LABEL_0  0.997675\n",
       "4    LABEL_0  0.995207\n",
       "..       ...       ...\n",
       "995  LABEL_0  0.996561\n",
       "996  LABEL_0  0.995584\n",
       "997  LABEL_0  0.995393\n",
       "998  LABEL_0  0.993926\n",
       "999  LABEL_0  0.994518\n",
       "\n",
       "[1000 rows x 2 columns]"
      ],
      "text/html": [
       "<div>\n",
       "<style scoped>\n",
       "    .dataframe tbody tr th:only-of-type {\n",
       "        vertical-align: middle;\n",
       "    }\n",
       "\n",
       "    .dataframe tbody tr th {\n",
       "        vertical-align: top;\n",
       "    }\n",
       "\n",
       "    .dataframe thead th {\n",
       "        text-align: right;\n",
       "    }\n",
       "</style>\n",
       "<table border=\"1\" class=\"dataframe\">\n",
       "  <thead>\n",
       "    <tr style=\"text-align: right;\">\n",
       "      <th></th>\n",
       "      <th>label</th>\n",
       "      <th>score</th>\n",
       "    </tr>\n",
       "  </thead>\n",
       "  <tbody>\n",
       "    <tr>\n",
       "      <th>0</th>\n",
       "      <td>LABEL_0</td>\n",
       "      <td>0.997660</td>\n",
       "    </tr>\n",
       "    <tr>\n",
       "      <th>1</th>\n",
       "      <td>LABEL_0</td>\n",
       "      <td>0.945867</td>\n",
       "    </tr>\n",
       "    <tr>\n",
       "      <th>2</th>\n",
       "      <td>LABEL_0</td>\n",
       "      <td>0.998233</td>\n",
       "    </tr>\n",
       "    <tr>\n",
       "      <th>3</th>\n",
       "      <td>LABEL_0</td>\n",
       "      <td>0.997675</td>\n",
       "    </tr>\n",
       "    <tr>\n",
       "      <th>4</th>\n",
       "      <td>LABEL_0</td>\n",
       "      <td>0.995207</td>\n",
       "    </tr>\n",
       "    <tr>\n",
       "      <th>...</th>\n",
       "      <td>...</td>\n",
       "      <td>...</td>\n",
       "    </tr>\n",
       "    <tr>\n",
       "      <th>995</th>\n",
       "      <td>LABEL_0</td>\n",
       "      <td>0.996561</td>\n",
       "    </tr>\n",
       "    <tr>\n",
       "      <th>996</th>\n",
       "      <td>LABEL_0</td>\n",
       "      <td>0.995584</td>\n",
       "    </tr>\n",
       "    <tr>\n",
       "      <th>997</th>\n",
       "      <td>LABEL_0</td>\n",
       "      <td>0.995393</td>\n",
       "    </tr>\n",
       "    <tr>\n",
       "      <th>998</th>\n",
       "      <td>LABEL_0</td>\n",
       "      <td>0.993926</td>\n",
       "    </tr>\n",
       "    <tr>\n",
       "      <th>999</th>\n",
       "      <td>LABEL_0</td>\n",
       "      <td>0.994518</td>\n",
       "    </tr>\n",
       "  </tbody>\n",
       "</table>\n",
       "<p>1000 rows × 2 columns</p>\n",
       "</div>"
      ]
     },
     "execution_count": 16,
     "metadata": {},
     "output_type": "execute_result"
    }
   ],
   "execution_count": 16
  },
  {
   "metadata": {},
   "cell_type": "code",
   "outputs": [],
   "execution_count": null,
   "source": "",
   "id": "337925a8207d8449"
  }
 ],
 "metadata": {
  "kernelspec": {
   "display_name": "Python 3",
   "language": "python",
   "name": "python3"
  },
  "language_info": {
   "codemirror_mode": {
    "name": "ipython",
    "version": 2
   },
   "file_extension": ".py",
   "mimetype": "text/x-python",
   "name": "python",
   "nbconvert_exporter": "python",
   "pygments_lexer": "ipython2",
   "version": "2.7.6"
  }
 },
 "nbformat": 4,
 "nbformat_minor": 5
}
