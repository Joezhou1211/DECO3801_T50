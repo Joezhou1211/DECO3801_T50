{
 "cells": [
  {
   "cell_type": "code",
   "id": "initial_id",
   "metadata": {
    "collapsed": true,
    "ExecuteTime": {
     "end_time": "2024-10-13T07:24:42.414511Z",
     "start_time": "2024-10-13T07:24:41.467642Z"
    }
   },
   "source": [
    "import pandas as pd\n",
    "\n",
    "df = pd.read_json('../../data/processed/topic_data.json')\n",
    "df.head()"
   ],
   "outputs": [
    {
     "data": {
      "text/plain": [
       "                   _id  created_at_dt  reply_count  retweet_count  \\\n",
       "0  1192617057394708480  1573177038000            0            280   \n",
       "1  1192684541913100288  1573193128000            0            609   \n",
       "2  1192725213294804992  1573202825000            0            118   \n",
       "3  1192766676854435840  1573212710000            0           2879   \n",
       "4  1192932983407202304  1573252361000           26            364   \n",
       "\n",
       "   favourite_count  quote_count sentiment  main_topic  fake_news_pred  \n",
       "0              458            0  Positive           1               0  \n",
       "1              673            0   Neutral           1               0  \n",
       "2              158            0  Positive           8               0  \n",
       "3             5002            0  Negative           1               0  \n",
       "4              639           85   Neutral           1               0  "
      ],
      "text/html": [
       "<div>\n",
       "<style scoped>\n",
       "    .dataframe tbody tr th:only-of-type {\n",
       "        vertical-align: middle;\n",
       "    }\n",
       "\n",
       "    .dataframe tbody tr th {\n",
       "        vertical-align: top;\n",
       "    }\n",
       "\n",
       "    .dataframe thead th {\n",
       "        text-align: right;\n",
       "    }\n",
       "</style>\n",
       "<table border=\"1\" class=\"dataframe\">\n",
       "  <thead>\n",
       "    <tr style=\"text-align: right;\">\n",
       "      <th></th>\n",
       "      <th>_id</th>\n",
       "      <th>created_at_dt</th>\n",
       "      <th>reply_count</th>\n",
       "      <th>retweet_count</th>\n",
       "      <th>favourite_count</th>\n",
       "      <th>quote_count</th>\n",
       "      <th>sentiment</th>\n",
       "      <th>main_topic</th>\n",
       "      <th>fake_news_pred</th>\n",
       "    </tr>\n",
       "  </thead>\n",
       "  <tbody>\n",
       "    <tr>\n",
       "      <th>0</th>\n",
       "      <td>1192617057394708480</td>\n",
       "      <td>1573177038000</td>\n",
       "      <td>0</td>\n",
       "      <td>280</td>\n",
       "      <td>458</td>\n",
       "      <td>0</td>\n",
       "      <td>Positive</td>\n",
       "      <td>1</td>\n",
       "      <td>0</td>\n",
       "    </tr>\n",
       "    <tr>\n",
       "      <th>1</th>\n",
       "      <td>1192684541913100288</td>\n",
       "      <td>1573193128000</td>\n",
       "      <td>0</td>\n",
       "      <td>609</td>\n",
       "      <td>673</td>\n",
       "      <td>0</td>\n",
       "      <td>Neutral</td>\n",
       "      <td>1</td>\n",
       "      <td>0</td>\n",
       "    </tr>\n",
       "    <tr>\n",
       "      <th>2</th>\n",
       "      <td>1192725213294804992</td>\n",
       "      <td>1573202825000</td>\n",
       "      <td>0</td>\n",
       "      <td>118</td>\n",
       "      <td>158</td>\n",
       "      <td>0</td>\n",
       "      <td>Positive</td>\n",
       "      <td>8</td>\n",
       "      <td>0</td>\n",
       "    </tr>\n",
       "    <tr>\n",
       "      <th>3</th>\n",
       "      <td>1192766676854435840</td>\n",
       "      <td>1573212710000</td>\n",
       "      <td>0</td>\n",
       "      <td>2879</td>\n",
       "      <td>5002</td>\n",
       "      <td>0</td>\n",
       "      <td>Negative</td>\n",
       "      <td>1</td>\n",
       "      <td>0</td>\n",
       "    </tr>\n",
       "    <tr>\n",
       "      <th>4</th>\n",
       "      <td>1192932983407202304</td>\n",
       "      <td>1573252361000</td>\n",
       "      <td>26</td>\n",
       "      <td>364</td>\n",
       "      <td>639</td>\n",
       "      <td>85</td>\n",
       "      <td>Neutral</td>\n",
       "      <td>1</td>\n",
       "      <td>0</td>\n",
       "    </tr>\n",
       "  </tbody>\n",
       "</table>\n",
       "</div>"
      ]
     },
     "execution_count": 1,
     "metadata": {},
     "output_type": "execute_result"
    }
   ],
   "execution_count": 1
  },
  {
   "metadata": {
    "ExecuteTime": {
     "end_time": "2024-10-13T07:24:45.499444Z",
     "start_time": "2024-10-13T07:24:45.421110Z"
    }
   },
   "cell_type": "code",
   "source": "df.info()",
   "id": "93b3ffa4a71697c1",
   "outputs": [
    {
     "name": "stdout",
     "output_type": "stream",
     "text": [
      "<class 'pandas.core.frame.DataFrame'>\n",
      "RangeIndex: 157670 entries, 0 to 157669\n",
      "Data columns (total 9 columns):\n",
      " #   Column           Non-Null Count   Dtype \n",
      "---  ------           --------------   ----- \n",
      " 0   _id              157670 non-null  int64 \n",
      " 1   created_at_dt    157670 non-null  int64 \n",
      " 2   reply_count      157670 non-null  int64 \n",
      " 3   retweet_count    157670 non-null  int64 \n",
      " 4   favourite_count  157670 non-null  int64 \n",
      " 5   quote_count      157670 non-null  int64 \n",
      " 6   sentiment        157670 non-null  object\n",
      " 7   main_topic       157670 non-null  int64 \n",
      " 8   fake_news_pred   157670 non-null  int64 \n",
      "dtypes: int64(8), object(1)\n",
      "memory usage: 10.8+ MB\n"
     ]
    }
   ],
   "execution_count": 2
  },
  {
   "metadata": {
    "jupyter": {
     "is_executing": true
    },
    "ExecuteTime": {
     "start_time": "2024-10-13T08:32:22.887167Z"
    }
   },
   "cell_type": "code",
   "source": [
    "import bson\n",
    "with open('../../data/raw/v_forest.bson', 'rb') as file:\n",
    "    data = bson.decode_all(file.read())\n",
    "\n",
    "ef = pd.DataFrame(data)\n",
    "ef.head()"
   ],
   "id": "8c2510dfb6c3e63d",
   "outputs": [],
   "execution_count": null
  },
  {
   "metadata": {
    "ExecuteTime": {
     "end_time": "2024-10-13T08:19:12.685393Z",
     "start_time": "2024-10-13T08:19:12.565796Z"
    }
   },
   "cell_type": "code",
   "source": [
    "# 提取df的id列  存为list 用于后续的匹配\n",
    "df_ids = df['_id'].tolist()\n",
    "\n",
    "# 用df的id列匹配ef的id列 ef中没有的话就删除\n",
    "ef = ef[ef['_id'].isin(df_ids)]\n",
    "ef.info()"
   ],
   "id": "65999d40034a8bcb",
   "outputs": [
    {
     "ename": "KeyError",
     "evalue": "'_id'",
     "output_type": "error",
     "traceback": [
      "\u001B[0;31m---------------------------------------------------------------------------\u001B[0m",
      "\u001B[0;31mKeyError\u001B[0m                                  Traceback (most recent call last)",
      "File \u001B[0;32m/Library/Frameworks/Python.framework/Versions/3.11/lib/python3.11/site-packages/pandas/core/indexes/base.py:3802\u001B[0m, in \u001B[0;36mIndex.get_loc\u001B[0;34m(self, key, method, tolerance)\u001B[0m\n\u001B[1;32m   3801\u001B[0m \u001B[38;5;28;01mtry\u001B[39;00m:\n\u001B[0;32m-> 3802\u001B[0m     \u001B[38;5;28;01mreturn\u001B[39;00m \u001B[38;5;28;43mself\u001B[39;49m\u001B[38;5;241;43m.\u001B[39;49m\u001B[43m_engine\u001B[49m\u001B[38;5;241;43m.\u001B[39;49m\u001B[43mget_loc\u001B[49m\u001B[43m(\u001B[49m\u001B[43mcasted_key\u001B[49m\u001B[43m)\u001B[49m\n\u001B[1;32m   3803\u001B[0m \u001B[38;5;28;01mexcept\u001B[39;00m \u001B[38;5;167;01mKeyError\u001B[39;00m \u001B[38;5;28;01mas\u001B[39;00m err:\n",
      "File \u001B[0;32m/Library/Frameworks/Python.framework/Versions/3.11/lib/python3.11/site-packages/pandas/_libs/index.pyx:138\u001B[0m, in \u001B[0;36mpandas._libs.index.IndexEngine.get_loc\u001B[0;34m()\u001B[0m\n",
      "File \u001B[0;32m/Library/Frameworks/Python.framework/Versions/3.11/lib/python3.11/site-packages/pandas/_libs/index.pyx:165\u001B[0m, in \u001B[0;36mpandas._libs.index.IndexEngine.get_loc\u001B[0;34m()\u001B[0m\n",
      "File \u001B[0;32mpandas/_libs/hashtable_class_helper.pxi:5745\u001B[0m, in \u001B[0;36mpandas._libs.hashtable.PyObjectHashTable.get_item\u001B[0;34m()\u001B[0m\n",
      "File \u001B[0;32mpandas/_libs/hashtable_class_helper.pxi:5753\u001B[0m, in \u001B[0;36mpandas._libs.hashtable.PyObjectHashTable.get_item\u001B[0;34m()\u001B[0m\n",
      "\u001B[0;31mKeyError\u001B[0m: '_id'",
      "\nThe above exception was the direct cause of the following exception:\n",
      "\u001B[0;31mKeyError\u001B[0m                                  Traceback (most recent call last)",
      "Cell \u001B[0;32mIn[8], line 2\u001B[0m\n\u001B[1;32m      1\u001B[0m \u001B[38;5;66;03m# 提取df的id列  存为list 用于后续的匹配\u001B[39;00m\n\u001B[0;32m----> 2\u001B[0m df_ids \u001B[38;5;241m=\u001B[39m \u001B[43mdf\u001B[49m\u001B[43m[\u001B[49m\u001B[38;5;124;43m'\u001B[39;49m\u001B[38;5;124;43m_id\u001B[39;49m\u001B[38;5;124;43m'\u001B[39;49m\u001B[43m]\u001B[49m\u001B[38;5;241m.\u001B[39mtolist()\n\u001B[1;32m      4\u001B[0m \u001B[38;5;66;03m# 用df的id列匹配ef的id列 ef中没有的话就删除\u001B[39;00m\n\u001B[1;32m      5\u001B[0m ef \u001B[38;5;241m=\u001B[39m ef[ef[\u001B[38;5;124m'\u001B[39m\u001B[38;5;124m_id\u001B[39m\u001B[38;5;124m'\u001B[39m]\u001B[38;5;241m.\u001B[39misin(df_ids)]\n",
      "File \u001B[0;32m/Library/Frameworks/Python.framework/Versions/3.11/lib/python3.11/site-packages/pandas/core/frame.py:3807\u001B[0m, in \u001B[0;36mDataFrame.__getitem__\u001B[0;34m(self, key)\u001B[0m\n\u001B[1;32m   3805\u001B[0m \u001B[38;5;28;01mif\u001B[39;00m \u001B[38;5;28mself\u001B[39m\u001B[38;5;241m.\u001B[39mcolumns\u001B[38;5;241m.\u001B[39mnlevels \u001B[38;5;241m>\u001B[39m \u001B[38;5;241m1\u001B[39m:\n\u001B[1;32m   3806\u001B[0m     \u001B[38;5;28;01mreturn\u001B[39;00m \u001B[38;5;28mself\u001B[39m\u001B[38;5;241m.\u001B[39m_getitem_multilevel(key)\n\u001B[0;32m-> 3807\u001B[0m indexer \u001B[38;5;241m=\u001B[39m \u001B[38;5;28;43mself\u001B[39;49m\u001B[38;5;241;43m.\u001B[39;49m\u001B[43mcolumns\u001B[49m\u001B[38;5;241;43m.\u001B[39;49m\u001B[43mget_loc\u001B[49m\u001B[43m(\u001B[49m\u001B[43mkey\u001B[49m\u001B[43m)\u001B[49m\n\u001B[1;32m   3808\u001B[0m \u001B[38;5;28;01mif\u001B[39;00m is_integer(indexer):\n\u001B[1;32m   3809\u001B[0m     indexer \u001B[38;5;241m=\u001B[39m [indexer]\n",
      "File \u001B[0;32m/Library/Frameworks/Python.framework/Versions/3.11/lib/python3.11/site-packages/pandas/core/indexes/base.py:3804\u001B[0m, in \u001B[0;36mIndex.get_loc\u001B[0;34m(self, key, method, tolerance)\u001B[0m\n\u001B[1;32m   3802\u001B[0m     \u001B[38;5;28;01mreturn\u001B[39;00m \u001B[38;5;28mself\u001B[39m\u001B[38;5;241m.\u001B[39m_engine\u001B[38;5;241m.\u001B[39mget_loc(casted_key)\n\u001B[1;32m   3803\u001B[0m \u001B[38;5;28;01mexcept\u001B[39;00m \u001B[38;5;167;01mKeyError\u001B[39;00m \u001B[38;5;28;01mas\u001B[39;00m err:\n\u001B[0;32m-> 3804\u001B[0m     \u001B[38;5;28;01mraise\u001B[39;00m \u001B[38;5;167;01mKeyError\u001B[39;00m(key) \u001B[38;5;28;01mfrom\u001B[39;00m \u001B[38;5;21;01merr\u001B[39;00m\n\u001B[1;32m   3805\u001B[0m \u001B[38;5;28;01mexcept\u001B[39;00m \u001B[38;5;167;01mTypeError\u001B[39;00m:\n\u001B[1;32m   3806\u001B[0m     \u001B[38;5;66;03m# If we have a listlike key, _check_indexing_error will raise\u001B[39;00m\n\u001B[1;32m   3807\u001B[0m     \u001B[38;5;66;03m#  InvalidIndexError. Otherwise we fall through and re-raise\u001B[39;00m\n\u001B[1;32m   3808\u001B[0m     \u001B[38;5;66;03m#  the TypeError.\u001B[39;00m\n\u001B[1;32m   3809\u001B[0m     \u001B[38;5;28mself\u001B[39m\u001B[38;5;241m.\u001B[39m_check_indexing_error(key)\n",
      "\u001B[0;31mKeyError\u001B[0m: '_id'"
     ]
    }
   ],
   "execution_count": 8
  },
  {
   "metadata": {
    "ExecuteTime": {
     "end_time": "2024-10-13T08:21:28.520985Z",
     "start_time": "2024-10-13T08:20:41.327505Z"
    }
   },
   "cell_type": "code",
   "source": "ef.info()",
   "id": "d82a5660651661b5",
   "outputs": [
    {
     "name": "stdout",
     "output_type": "stream",
     "text": [
      "<class 'pandas.core.frame.DataFrame'>\n",
      "Index: 490654 entries, 3787575861 to 1230200922598526978\n",
      "Data columns (total 42 columns):\n",
      " #   Column                  Non-Null Count   Dtype         \n",
      "---  ------                  --------------   -----         \n",
      " 0   author                  490654 non-null  object        \n",
      " 1   parent                  244302 non-null  object        \n",
      " 2   quoted                  98145 non-null   object        \n",
      " 3   mentions                490654 non-null  object        \n",
      " 4   hashtags                490654 non-null  object        \n",
      " 5   depth                   490654 non-null  int64         \n",
      " 6   node_type               490654 non-null  object        \n",
      " 7   quote_ancestors         490654 non-null  object        \n",
      " 8   tweet_ancestors         490654 non-null  object        \n",
      " 9   children                490654 non-null  int64         \n",
      " 10  tree_authors            490654 non-null  object        \n",
      " 11  tree_hashtags           490654 non-null  object        \n",
      " 12  tree_users              490654 non-null  object        \n",
      " 13  author_keynode          490654 non-null  bool          \n",
      " 14  hashtag_keynode         490654 non-null  bool          \n",
      " 15  valid                   490654 non-null  bool          \n",
      " 16  created_at              490654 non-null  object        \n",
      " 17  created_at_dt           490654 non-null  datetime64[ns]\n",
      " 18  display_text            490654 non-null  object        \n",
      " 19  display_text_range      490654 non-null  object        \n",
      " 20  extended_entities       94994 non-null   object        \n",
      " 21  favourite_count         490654 non-null  int64         \n",
      " 22  lang                    490654 non-null  object        \n",
      " 23  quote_count             490654 non-null  int64         \n",
      " 24  reply_count             490654 non-null  int64         \n",
      " 25  retweet_count           490654 non-null  int64         \n",
      " 26  urls                    490654 non-null  object        \n",
      " 27  text                    490654 non-null  object        \n",
      " 28  child_nodes             490654 non-null  object        \n",
      " 29  influence_tweet         490654 non-null  float64       \n",
      " 30  influence_user          490654 non-null  float64       \n",
      " 31  verified                490654 non-null  bool          \n",
      " 32  deidentmentions         490654 non-null  object        \n",
      " 33  deidentscreenname       490654 non-null  object        \n",
      " 34  deidentname             490654 non-null  object        \n",
      " 35  timebucket              490654 non-null  object        \n",
      " 36  horiz_offset            490654 non-null  float64       \n",
      " 37  influence_tweet_factor  490654 non-null  float64       \n",
      " 38  left                    490654 non-null  bool          \n",
      " 39  vert_offset             490654 non-null  float64       \n",
      " 40  location                490654 non-null  object        \n",
      " 41  vert_correct            490654 non-null  bool          \n",
      "dtypes: bool(6), datetime64[ns](1), float64(5), int64(6), object(24)\n",
      "memory usage: 157.4+ MB\n"
     ]
    }
   ],
   "execution_count": 9
  },
  {
   "metadata": {},
   "cell_type": "code",
   "outputs": [],
   "execution_count": null,
   "source": [
    "# 用df的id列匹配ef的id列 ef中没有的话就删除这一个row\n",
    "ef = ef[ef['_id'].isin(df_ids)]\n",
    "ef.info()"
   ],
   "id": "9275d6e7ca5bbdb1"
  }
 ],
 "metadata": {
  "kernelspec": {
   "display_name": "Python 3",
   "language": "python",
   "name": "python3"
  },
  "language_info": {
   "codemirror_mode": {
    "name": "ipython",
    "version": 2
   },
   "file_extension": ".py",
   "mimetype": "text/x-python",
   "name": "python",
   "nbconvert_exporter": "python",
   "pygments_lexer": "ipython2",
   "version": "2.7.6"
  }
 },
 "nbformat": 4,
 "nbformat_minor": 5
}
