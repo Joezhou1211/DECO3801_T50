{
 "cells": [
  {
   "cell_type": "code",
   "execution_count": null,
   "id": "initial_id",
   "metadata": {
    "collapsed": true
   },
   "outputs": [],
   "source": [
    "import joblib\n",
    "import pandas as pd\n",
    "from sklearn.feature_extraction.text import TfidfVectorizer\n",
    "from sklearn.decomposition import NMF\n",
    "from sklearn.pipeline import Pipeline\n",
    "from gensim.models import CoherenceModel\n",
    "from gensim.corpora.dictionary import Dictionary\n",
    "\n",
    "'''\n",
    "Use LDA instead of NMF because the coherence score of the LDA model is higher, which means that the topics of the LDA model are more coherent and easier to interpret.\n",
    "'''\n",
    "\n",
    "\n",
    "def nmf_coherence_scorer(estimator, X):\n",
    "    tfidf_matrix = estimator.named_steps['tfidf'].transform(X)  # To TF-IDF matrix\n",
    "    nmf_model = estimator.named_steps['nmf']\n",
    "    H = nmf_model.components_\n",
    "\n",
    "    texts = [doc.split() for doc in X] \n",
    "    dictionary = Dictionary(texts)  \n",
    "\n",
    "    # Calculate coherence\n",
    "    coherence_model = CoherenceModel(\n",
    "        topics=[[dictionary[word_id] for word_id in topic.argsort()[:-11:-1]] for topic in H],\n",
    "        texts=texts, dictionary=dictionary, coherence='c_v', processes=1)\n",
    "    coherence = coherence_model.get_coherence()\n",
    "    return coherence\n",
    "\n",
    "if __name__ == '__main__':\n",
    "    df = pd.read_csv('../data/processed/tweets_with_topics.csv')\n",
    "\n",
    "    # data cleaning\n",
    "    df['cleaned_text'] = df['cleaned_text'].fillna('')\n",
    "    df['cleaned_text'] = df['cleaned_text'].astype(str)\n",
    "\n",
    "    # iliterate the parameters to find the best parameters\n",
    "    final_params = {\n",
    "        'tfidf__max_features': 6000,   # 2000, 3000, 4000 has lower coherence score\n",
    "        'tfidf__ngram_range': (1, 2),  # (1,1), (1,3) has lower coherence score \n",
    "        'tfidf__max_df': 0.9,  # 0.95, 0.85 has lower coherence score\n",
    "        'tfidf__min_df': 10,  # 5, 15 has lower coherence score\n",
    "        'nmf__n_components': 10,  # 10 = 0.36615630438929847 \n",
    "    }\n",
    "\n",
    "    pipeline = Pipeline([\n",
    "        ('tfidf', TfidfVectorizer(stop_words='english')),\n",
    "        ('nmf', NMF(random_state=1, max_iter=500))  # at 200 a warning was given\n",
    "    ])\n",
    "\n",
    "\n",
    "    pipeline.set_params(**final_params)\n",
    "    pipeline.fit(df['cleaned_text'])\n",
    "\n",
    "\n",
    "    coherence = nmf_coherence_scorer(pipeline, df['cleaned_text'])\n",
    "    print(f\"Coherence: {coherence}\")\n",
    "\n",
    "    W = pipeline.named_steps['nmf'].transform(pipeline.named_steps['tfidf'].transform(df['cleaned_text']))\n",
    "\n",
    "    for i in range(pipeline.named_steps['nmf'].n_components):\n",
    "        df[f'topic_{i}'] = W[:, i]\n",
    "\n",
    "    joblib.dump(pipeline, 'final_nmf_model.pkl')\n",
    "\n",
    "    df.to_csv('../data/processed/tweets_with_final_nmf_topics_final.csv', index=False)\n"
   ]
  },
  {
   "metadata": {},
   "cell_type": "code",
   "outputs": [],
   "execution_count": null,
   "source": "",
   "id": "99680f40b4c048af"
  }
 ],
 "metadata": {
  "kernelspec": {
   "display_name": "Python 3",
   "language": "python",
   "name": "python3"
  },
  "language_info": {
   "codemirror_mode": {
    "name": "ipython",
    "version": 2
   },
   "file_extension": ".py",
   "mimetype": "text/x-python",
   "name": "python",
   "nbconvert_exporter": "python",
   "pygments_lexer": "ipython2",
   "version": "2.7.6"
  }
 },
 "nbformat": 4,
 "nbformat_minor": 5
}
