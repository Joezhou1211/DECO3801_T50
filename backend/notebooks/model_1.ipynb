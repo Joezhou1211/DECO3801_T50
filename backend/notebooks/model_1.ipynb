{
 "cells": [
  {
   "metadata": {
    "ExecuteTime": {
     "end_time": "2024-09-30T07:37:42.257466Z",
     "start_time": "2024-09-30T07:37:41.343070Z"
    }
   },
   "cell_type": "code",
   "source": [
    "# Import necessary libraries\n",
    "import pandas as pd\n",
    "import numpy as np\n",
    "import torch\n",
    "from transformers import AutoTokenizer, AutoModelForSequenceClassification, Trainer, TrainingArguments\n",
    "from sklearn.model_selection import train_test_split\n",
    "from sklearn.metrics import classification_report, confusion_matrix, precision_recall_curve, f1_score\n",
    "import torch.nn.functional as F\n",
    "\n",
    "# Set random seed for reproducibility\n",
    "seed = 42\n",
    "np.random.seed(seed)\n",
    "torch.manual_seed(seed)"
   ],
   "id": "7684338dd9207244",
   "outputs": [
    {
     "data": {
      "text/plain": [
       "<torch._C.Generator at 0x18f3bb1bdd0>"
      ]
     },
     "execution_count": 7,
     "metadata": {},
     "output_type": "execute_result"
    }
   ],
   "execution_count": 7
  },
  {
   "metadata": {
    "ExecuteTime": {
     "end_time": "2024-09-30T07:37:42.308347Z",
     "start_time": "2024-09-30T07:37:42.257466Z"
    }
   },
   "cell_type": "code",
   "source": [
    "# Load your fake news data\n",
    "df_fake = pd.read_csv('arson_emergency_with_fake_news_tag.csv')\n",
    "\n",
    "# Assuming 'fake_news_tag' column exists and all labels are 1\n",
    "df_fake = df_fake[['cleaned_text', 'fake_news_tag']].dropna()\n",
    "df_fake.rename(columns={'cleaned_text': 'text'}, inplace=True)\n",
    "#df_fake['label'] = 1  # Fake news label\n",
    "df_fake.rename(columns={'fake_news_tag': 'label'}, inplace=True)\n",
    "df_fake['label'] = df_fake['label'].astype(int)\n",
    "\n",
    "# Load real news data (you need to have a dataset of real news)\n",
    "# For demonstration, let's assume you have 'real_news.csv'\n",
    "#df_real = pd.read_csv('real_news.csv')  # Replace with your real news dataset\n",
    "#df_real = df_real[['cleaned_text']].dropna()\n",
    "#df_real.rename(columns={'cleaned_text': 'text'}, inplace=True)\n",
    "#df_real['label'] = 0  # Real news label\n",
    "\n",
    "# Combine fake and real news data\n",
    "#df_labeled = pd.concat([df_fake, df_real], ignore_index=True)\n",
    "\n",
    "# Shuffle the dataset\n",
    "df_labeled = df_fake.sample(frac=1, random_state=seed).reset_index(drop=True)\n",
    "\n",
    "# Display class distribution\n",
    "print(\"Class Distribution:\")\n",
    "print(df_labeled['label'].value_counts())\n"
   ],
   "id": "19d5c89cbbb535ee",
   "outputs": [
    {
     "name": "stdout",
     "output_type": "stream",
     "text": [
      "Class Distribution:\n",
      "1    498\n",
      "Name: label, dtype: int64\n"
     ]
    }
   ],
   "execution_count": 8
  },
  {
   "metadata": {
    "ExecuteTime": {
     "end_time": "2024-09-30T07:37:42.399967Z",
     "start_time": "2024-09-30T07:37:42.383828Z"
    }
   },
   "cell_type": "code",
   "source": [
    "# Split into features and labels\n",
    "texts = df_labeled['text'].tolist()\n",
    "labels = df_labeled['label'].tolist()\n",
    "\n",
    "# Split the data\n",
    "X_train, X_test, y_train, y_test = train_test_split(\n",
    "    texts, labels, test_size=0.2, random_state=seed, stratify=labels)\n"
   ],
   "id": "be3fcafaa1de4abb",
   "outputs": [],
   "execution_count": 9
  },
  {
   "metadata": {
    "ExecuteTime": {
     "end_time": "2024-09-30T07:37:42.798118Z",
     "start_time": "2024-09-30T07:37:42.415473Z"
    }
   },
   "cell_type": "code",
   "source": [
    "# Choose a pre-trained model\n",
    "model_name = \"bert-base-uncased\"\n",
    "\n",
    "# Load tokenizer\n",
    "tokenizer = AutoTokenizer.from_pretrained(model_name)\n",
    "\n",
    "# Tokenize training data\n",
    "train_encodings = tokenizer(\n",
    "    X_train,\n",
    "    truncation=True,\n",
    "    padding=True,\n",
    "    max_length=128\n",
    ")\n",
    "\n",
    "# Tokenize testing data\n",
    "test_encodings = tokenizer(\n",
    "    X_test,\n",
    "    truncation=True,\n",
    "    padding=True,\n",
    "    max_length=128\n",
    ")\n"
   ],
   "id": "ddd9b4890a5492ff",
   "outputs": [
    {
     "name": "stderr",
     "output_type": "stream",
     "text": [
      "D:\\Python\\Lib\\site-packages\\transformers\\tokenization_utils_base.py:1601: FutureWarning: `clean_up_tokenization_spaces` was not set. It will be set to `True` by default. This behavior will be depracted in transformers v4.45, and will be then set to `False` by default. For more details check this issue: https://github.com/huggingface/transformers/issues/31884\n",
      "  warnings.warn(\n"
     ]
    }
   ],
   "execution_count": 10
  },
  {
   "metadata": {
    "ExecuteTime": {
     "end_time": "2024-09-30T07:37:42.839989Z",
     "start_time": "2024-09-30T07:37:42.830570Z"
    }
   },
   "cell_type": "code",
   "source": [
    "class FakeNewsDataset(torch.utils.data.Dataset):\n",
    "    def __init__(self, encodings, labels):\n",
    "        self.encodings = encodings\n",
    "        self.labels = labels\n",
    "    def __getitem__(self, idx):\n",
    "        item = {key: torch.tensor(val[idx]) for key, val in self.encodings.items()}\n",
    "        item['labels'] = torch.tensor(self.labels[idx])\n",
    "        return item\n",
    "    def __len__(self):\n",
    "        return len(self.labels)\n",
    "\n",
    "# Create datasets\n",
    "train_dataset = FakeNewsDataset(train_encodings, y_train)\n",
    "test_dataset = FakeNewsDataset(test_encodings, y_test)\n"
   ],
   "id": "13764a3c848cc8ed",
   "outputs": [],
   "execution_count": 11
  },
  {
   "metadata": {
    "ExecuteTime": {
     "end_time": "2024-09-30T07:47:35.013800Z",
     "start_time": "2024-09-30T07:41:19.395005Z"
    }
   },
   "cell_type": "code",
   "source": [
    "import torch\n",
    "from transformers import AutoModelForSequenceClassification, Trainer, TrainingArguments\n",
    "import os\n",
    "\n",
    "os.environ[\"CUDA_VISIBLE_DEVICES\"] = \"\"\n",
    "\n",
    "device = torch.device(\"cpu\")\n",
    "\n",
    "tokenizer = AutoTokenizer.from_pretrained(model_name)\n",
    "model = AutoModelForSequenceClassification.from_pretrained(model_name, num_labels=2)\n",
    "model.to(device)\n",
    "\n",
    "training_args = TrainingArguments(\n",
    "    output_dir='./results',\n",
    "    num_train_epochs=2,\n",
    "    per_device_train_batch_size=4,\n",
    "    per_device_eval_batch_size=4,\n",
    "    warmup_steps=500,\n",
    "    weight_decay=0.01,\n",
    "    logging_dir='./logs',\n",
    "    logging_steps=10,\n",
    "    evaluation_strategy=\"epoch\",\n",
    "    save_strategy=\"epoch\",\n",
    "    load_best_model_at_end=True,\n",
    "    metric_for_best_model=\"eval_loss\",\n",
    "    no_cuda=True\n",
    ")\n",
    "\n",
    "def compute_metrics(p):\n",
    "    preds = np.argmax(p.predictions, axis=1)\n",
    "    labels = p.label_ids\n",
    "    return {\n",
    "        'accuracy': (preds == labels).mean()\n",
    "    }\n",
    "\n",
    "trainer = Trainer(\n",
    "    model=model,\n",
    "    args=training_args,\n",
    "    train_dataset=train_dataset,\n",
    "    eval_dataset=test_dataset,\n",
    "    compute_metrics=compute_metrics\n",
    ")\n",
    "\n",
    "trainer.train()"
   ],
   "id": "95ab68048c72114d",
   "outputs": [
    {
     "name": "stderr",
     "output_type": "stream",
     "text": [
      "D:\\Python\\Lib\\site-packages\\transformers\\tokenization_utils_base.py:1601: FutureWarning: `clean_up_tokenization_spaces` was not set. It will be set to `True` by default. This behavior will be depracted in transformers v4.45, and will be then set to `False` by default. For more details check this issue: https://github.com/huggingface/transformers/issues/31884\n",
      "  warnings.warn(\n",
      "Some weights of BertForSequenceClassification were not initialized from the model checkpoint at bert-base-uncased and are newly initialized: ['classifier.bias', 'classifier.weight']\n",
      "You should probably TRAIN this model on a down-stream task to be able to use it for predictions and inference.\n",
      "D:\\Python\\Lib\\site-packages\\transformers\\training_args.py:1525: FutureWarning: `evaluation_strategy` is deprecated and will be removed in version 4.46 of 🤗 Transformers. Use `eval_strategy` instead\n",
      "  warnings.warn(\n",
      "D:\\Python\\Lib\\site-packages\\transformers\\training_args.py:1540: FutureWarning: using `no_cuda` is deprecated and will be removed in version 5.0 of 🤗 Transformers. Use `use_cpu` instead\n",
      "  warnings.warn(\n"
     ]
    },
    {
     "data": {
      "text/plain": [
       "<IPython.core.display.HTML object>"
      ],
      "text/html": [
       "\n",
       "    <div>\n",
       "      \n",
       "      <progress value='200' max='200' style='width:300px; height:20px; vertical-align: middle;'></progress>\n",
       "      [200/200 06:07, Epoch 2/2]\n",
       "    </div>\n",
       "    <table border=\"1\" class=\"dataframe\">\n",
       "  <thead>\n",
       " <tr style=\"text-align: left;\">\n",
       "      <th>Epoch</th>\n",
       "      <th>Training Loss</th>\n",
       "      <th>Validation Loss</th>\n",
       "      <th>Accuracy</th>\n",
       "    </tr>\n",
       "  </thead>\n",
       "  <tbody>\n",
       "    <tr>\n",
       "      <td>1</td>\n",
       "      <td>0.011300</td>\n",
       "      <td>0.006619</td>\n",
       "      <td>1.000000</td>\n",
       "    </tr>\n",
       "    <tr>\n",
       "      <td>2</td>\n",
       "      <td>0.000800</td>\n",
       "      <td>0.000458</td>\n",
       "      <td>1.000000</td>\n",
       "    </tr>\n",
       "  </tbody>\n",
       "</table><p>"
      ]
     },
     "metadata": {},
     "output_type": "display_data"
    },
    {
     "data": {
      "text/plain": [
       "TrainOutput(global_step=200, training_loss=0.13219502328895033, metrics={'train_runtime': 374.7049, 'train_samples_per_second': 2.124, 'train_steps_per_second': 0.534, 'total_flos': 31088215634880.0, 'train_loss': 0.13219502328895033, 'epoch': 2.0})"
      ]
     },
     "execution_count": 16,
     "metadata": {},
     "output_type": "execute_result"
    }
   ],
   "execution_count": 16
  },
  {
   "metadata": {
    "ExecuteTime": {
     "end_time": "2024-09-30T07:48:09.700930Z",
     "start_time": "2024-09-30T07:47:57.609586Z"
    }
   },
   "cell_type": "code",
   "source": [
    "# Get predictions on the test set\n",
    "predictions = trainer.predict(test_dataset)\n",
    "preds = np.argmax(predictions.predictions, axis=1)\n",
    "labels = predictions.label_ids\n",
    "\n",
    "# Classification report\n",
    "print(\"Model Performance on Test Set:\")\n",
    "print(classification_report(labels, preds))\n",
    "print(\"Confusion Matrix:\")\n",
    "print(confusion_matrix(labels, preds))\n"
   ],
   "id": "45bf77f65a8c197c",
   "outputs": [
    {
     "data": {
      "text/plain": [
       "<IPython.core.display.HTML object>"
      ],
      "text/html": []
     },
     "metadata": {},
     "output_type": "display_data"
    },
    {
     "name": "stdout",
     "output_type": "stream",
     "text": [
      "Model Performance on Test Set:\n",
      "              precision    recall  f1-score   support\n",
      "\n",
      "           1       1.00      1.00      1.00       100\n",
      "\n",
      "    accuracy                           1.00       100\n",
      "   macro avg       1.00      1.00      1.00       100\n",
      "weighted avg       1.00      1.00      1.00       100\n",
      "\n",
      "Confusion Matrix:\n",
      "[[100]]\n"
     ]
    }
   ],
   "execution_count": 17
  },
  {
   "metadata": {
    "ExecuteTime": {
     "end_time": "2024-09-30T07:48:26.433668Z",
     "start_time": "2024-09-30T07:48:26.402131Z"
    }
   },
   "cell_type": "code",
   "source": [
    "# Get probabilities\n",
    "probs = F.softmax(torch.tensor(predictions.predictions), dim=-1).numpy()\n",
    "prob_fake = probs[:, 1]\n",
    "\n",
    "# Compute precision, recall, and thresholds\n",
    "precision, recall, thresholds = precision_recall_curve(labels, prob_fake)\n",
    "f1_scores = 2 * (precision * recall) / (precision + recall)\n",
    "best_threshold = thresholds[np.argmax(f1_scores)]\n",
    "best_f1 = np.max(f1_scores)\n",
    "print(f\"Best Threshold: {best_threshold:.4f}, Best F1 Score: {best_f1:.4f}\")\n",
    "\n",
    "# Adjust predictions based on the best threshold\n",
    "adjusted_preds = (prob_fake >= best_threshold).astype(int)\n",
    "\n",
    "# Evaluate adjusted predictions\n",
    "print(\"\\nAdjusted Model Performance:\")\n",
    "print(classification_report(labels, adjusted_preds))\n",
    "print(\"Confusion Matrix:\")\n",
    "print(confusion_matrix(labels, adjusted_preds))\n"
   ],
   "id": "f16e451380c91ae2",
   "outputs": [
    {
     "name": "stdout",
     "output_type": "stream",
     "text": [
      "Best Threshold: 0.9994, Best F1 Score: 1.0000\n",
      "\n",
      "Adjusted Model Performance:\n",
      "              precision    recall  f1-score   support\n",
      "\n",
      "           1       1.00      1.00      1.00       100\n",
      "\n",
      "    accuracy                           1.00       100\n",
      "   macro avg       1.00      1.00      1.00       100\n",
      "weighted avg       1.00      1.00      1.00       100\n",
      "\n",
      "Confusion Matrix:\n",
      "[[100]]\n"
     ]
    }
   ],
   "execution_count": 18
  },
  {
   "metadata": {
    "ExecuteTime": {
     "end_time": "2024-09-30T09:32:36.944679Z",
     "start_time": "2024-09-30T07:48:40.555448Z"
    }
   },
   "cell_type": "code",
   "source": [
    "# Load the full dataset\n",
    "df_full = pd.read_csv('../../data/processed/tweets_with_sentiment_vader.csv')\n",
    "\n",
    "# Ensure necessary columns are present\n",
    "df_full = df_full[['cleaned_text']].dropna()\n",
    "df_full.rename(columns={'cleaned_text': 'text'}, inplace=True)\n",
    "\n",
    "# Prepare data for prediction\n",
    "full_texts = df_full['text'].tolist()\n",
    "\n",
    "# Determine the device\n",
    "device = torch.device('cuda' if torch.cuda.is_available() else 'cpu')\n",
    "\n",
    "# Move the model to the device\n",
    "model.to(device)\n",
    "\n",
    "# Batch prediction\n",
    "batch_size = 32\n",
    "all_preds = []\n",
    "all_probs = []\n",
    "\n",
    "num_batches = int(np.ceil(len(full_texts) / batch_size))\n",
    "\n",
    "for i in range(num_batches):\n",
    "    batch_texts = full_texts[i*batch_size : (i+1)*batch_size]\n",
    "    inputs = tokenizer(\n",
    "        batch_texts,\n",
    "        return_tensors='pt',\n",
    "        truncation=True,\n",
    "        padding=True,\n",
    "        max_length=128\n",
    "    )\n",
    "    # Move input tensors to the device\n",
    "    inputs = {key: value.to(device) for key, value in inputs.items()}\n",
    "    \n",
    "    with torch.no_grad():\n",
    "        outputs = model(**inputs)\n",
    "        logits = outputs.logits\n",
    "        probabilities = F.softmax(logits, dim=1)\n",
    "        prob_fake = probabilities[:, 1].cpu().numpy()\n",
    "        adjusted_preds = (prob_fake >= best_threshold).astype(int)\n",
    "        all_preds.extend(adjusted_preds)\n",
    "        all_probs.extend(prob_fake)\n",
    "\n",
    "# Add predictions to the dataframe\n",
    "df_full['fake_news_pred'] = all_preds\n",
    "df_full['fake_news_prob'] = all_probs\n",
    "\n",
    "# Save the results\n",
    "df_full.to_csv('tweets_with_fake_news_predictions.csv', index=False)\n",
    "print(\"Predictions saved to 'tweets_with_fake_news_predictions.csv'\")\n"
   ],
   "id": "6b929720cba51666",
   "outputs": [
    {
     "name": "stdout",
     "output_type": "stream",
     "text": [
      "Predictions saved to 'tweets_with_fake_news_predictions.csv'\n"
     ]
    }
   ],
   "execution_count": 19
  },
  {
   "metadata": {
    "ExecuteTime": {
     "end_time": "2024-09-30T09:32:47.714310Z",
     "start_time": "2024-09-30T09:32:46.583054Z"
    }
   },
   "cell_type": "code",
   "source": [
    "# Load the predictions\n",
    "df_full = pd.read_csv('tweets_with_fake_news_predictions.csv')\n",
    "\n",
    "# Calculate fake news statistics\n",
    "fake_news_count = df_full['fake_news_pred'].sum()\n",
    "fake_news_percentage = (fake_news_count / len(df_full)) * 100\n",
    "\n",
    "fake_news_stats = {\n",
    "    \"Total Entries\": len(df_full),\n",
    "    \"Fake News Count\": fake_news_count,\n",
    "    \"Fake News Percentage\": fake_news_percentage\n",
    "}\n",
    "\n",
    "print(pd.DataFrame([fake_news_stats]))\n"
   ],
   "id": "5c2f91e12a4c5a42",
   "outputs": [
    {
     "name": "stdout",
     "output_type": "stream",
     "text": [
      "   Total Entries  Fake News Count  Fake News Percentage\n",
      "0         158902           105510             66.399416\n"
     ]
    }
   ],
   "execution_count": 20
  },
  {
   "metadata": {
    "ExecuteTime": {
     "end_time": "2024-09-30T07:37:52.801488900Z",
     "start_time": "2024-09-30T05:11:16.443817Z"
    }
   },
   "cell_type": "code",
   "source": "",
   "id": "c063e24b9f88add0",
   "outputs": [],
   "execution_count": null
  },
  {
   "metadata": {
    "ExecuteTime": {
     "end_time": "2024-09-30T07:37:52.801488900Z",
     "start_time": "2024-09-30T05:11:16.508944Z"
    }
   },
   "cell_type": "code",
   "source": "",
   "id": "11fcab626048ef70",
   "outputs": [],
   "execution_count": null
  }
 ],
 "metadata": {
  "kernelspec": {
   "display_name": "Python 3",
   "language": "python",
   "name": "python3"
  },
  "language_info": {
   "codemirror_mode": {
    "name": "ipython",
    "version": 2
   },
   "file_extension": ".py",
   "mimetype": "text/x-python",
   "name": "python",
   "nbconvert_exporter": "python",
   "pygments_lexer": "ipython2",
   "version": "2.7.6"
  }
 },
 "nbformat": 4,
 "nbformat_minor": 5
}
