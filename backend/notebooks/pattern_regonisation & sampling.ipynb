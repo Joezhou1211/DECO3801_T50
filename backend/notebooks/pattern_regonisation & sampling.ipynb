{
 "cells": [
  {
   "metadata": {},
   "cell_type": "markdown",
   "source": "",
   "id": "13839bd304dd5a88"
  },
  {
   "metadata": {
    "ExecuteTime": {
     "end_time": "2024-08-15T15:40:14.438616Z",
     "start_time": "2024-08-15T15:40:14.433968Z"
    }
   },
   "cell_type": "code",
   "source": [
    "'''\n",
    "识别假新闻的想法：\n",
    "1. 识别当前账号状态：某些帖子内的extended_entities中的url可以直接导向用户的帖子（链接全面吗？只有这个链接可以去到吗？） 有些账号的页面已经被封禁 或该推文已删除 可以将数据整理为一个csv 然后使用脚本自动访问并查看用户账号是否封禁 根据页面反馈生成不同状态列表（需要一些研究 看看页面反馈都有什么类型）进行分析  如果用户被封号 则存在假新闻风险  如果推文不存在 则需要更深分析 \n",
    "⬆️❌脚本运行12小时 无反馈， ❌无法手动访问推文识别状态 工作量太大 回报不明确 \n",
    "\n",
    "2. 假新闻在情绪上有极端性 在情绪分布比较极端的位置上找 可能有收获\n",
    "⬆️✅工作流1\n",
    "\n",
    "3. 假新闻在重大事件发生时 可能会出现 看一下在事件后的情绪反向波动可能可以找到\n",
    "⬆️\n",
    "\n",
    "4. 将情感评分排序 手动分析极端情感的帖子 \n",
    "⬆️⭕️\n",
    "5. 假新闻的情绪在不同类型的推文中可能呈现不同情感模式 类型包括：新闻正文，营销号，普通用户发帖（如何识别不同用户？用verified？）\n",
    "⬆️⭕️\n",
    "6. 对比情感得分与新闻语气（如报道性、煽动性、宣传性）之间的关系\n",
    "⬆️⭕️\n",
    "\n",
    "7. 确认一些假新闻后 识别这些新闻的模式 作为特征 因为假新闻可能都有同样的模式和类型特征 \n",
    "⬆️✅工作流3\n",
    "\n",
    "8. 结合词频 内容长度 来源 来分析特征\n",
    "⬆️⭕️\n",
    "\n",
    "9. 是否可以采集可新内容作为情绪基线 然后对标当前的情绪序列？（可能不一定，因为每个营销号的用词风格不一定一样？所以情绪可能不同？是一个有意思的方向，需要研究一下）\n",
    "\n",
    "工作流11/08/24：\n",
    "1. 找情绪区间：先确认情绪异常值 人工标注极端情绪区间 \n",
    "2. 标注数据：将帖子根据事件分组 然后查看每一组的异常值 争取在每一组中都找到真和假 （需要调研 在事件发生后 到 下一件事发生前分为一组\n",
    "3. 子推文情绪建模：使用所有推文（需要先用当前root推文反推所有回复和转发）将推文按按日的顺序进行分组，对每个时间段内的推文进行单独的 LDA 建模，可以得到在不同的事件框架内讨论的事件（也许？）\n",
    "4.\n",
    "\n",
    "对于root推文和非root推文的想法：\n",
    "1. “大量的转发和正面情感的回复可能会增强一条推文的可信度，即使它是假的。人们往往倾向于相信被广泛转发或赞同的信息”\n",
    "2. “转发和回复中可能会出现矛盾的情感信号（如支持与反对）” 可以分析子推文的情感信号 但我觉得情感可能无法完全解释\n",
    "'''"
   ],
   "id": "b661f218daadb21a",
   "outputs": [
    {
     "data": {
      "text/plain": [
       "'\\n识别假新闻的想法：\\n1. 识别当前账号状态：某些帖子内的extended_entities中的url可以直接导向用户的帖子（链接全面吗？只有这个链接可以去到吗？） 有些账号的页面已经被封禁 或该推文已删除 可以将数据整理为一个csv 然后使用脚本自动访问并查看用户账号是否封禁 根据页面反馈生成不同状态列表（需要一些研究 看看页面反馈都有什么类型）进行分析  如果用户被封号 则存在假新闻风险  如果推文不存在 则需要更深分析 \\n⬆️❌脚本运行12小时 无反馈， ❌无法手动访问推文识别状态 工作量太大 回报不明确 \\n\\n2. 假新闻在情绪上有极端性 在情绪分布比较极端的位置上找 可能有收获\\n3. 假新闻在重大事件发生时 可能会出现 看一下在事件后的情绪反向波动可能可以找到\\n4. 将情感评分排序 手动分析极端情感的帖子 \\n5. 假新闻的情绪在不同类型的推文中可能呈现不同情感模式 类型包括：新闻正文，营销号，普通用户发帖（如何识别不同用户？用verified？）\\n6. 对比情感得分与新闻语气（如报道性、煽动性、宣传性）之间的关系\\n\\n7. 确认一些假新闻后 识别这些新闻的模式 作为特征 因为假新闻可能都有同样的模式和类型特征 \\n8. 结合词频 内容长度 来源 来分析特征\\n9. 是否可以采集可新内容作为情绪基线 然后对标当前的情绪序列？（可能不一定，因为每个营销号的用词风格不一定一样？所以情绪可能不同？是一个有意思的方向，需要研究一下）\\n\\n工作流11/08/24：\\n1. 找情绪区间：先确认情绪异常值 人工标注极端情绪区间 \\n2. 标注数据：将帖子根据事件分组 然后查看每一组的异常值 争取在每一组中都找到真和假 （需要调研 在事件发生后 到 下一件事发生前分为一组\\n3. 子推文情绪建模：使用所有推文（需要先用当前root推文反推所有回复和转发）将推文按按日的顺序进行分组，对每个时间段内的推文进行单独的 LDA 建模，可以得到在不同的事件框架内讨论的事件（也许？）\\n4.\\n\\n对于root推文和非root推文的想法：\\n1. “大量的转发和正面情感的回复可能会增强一条推文的可信度，即使它是假的。人们往往倾向于相信被广泛转发或赞同的信息”\\n2. “转发和回复中可能会出现矛盾的情感信号（如支持与反对）” 可以分析子推文的情感信号 但我觉得情感可能无法完全解释\\n'"
      ]
     },
     "execution_count": 106,
     "metadata": {},
     "output_type": "execute_result"
    }
   ],
   "execution_count": 106
  },
  {
   "metadata": {},
   "cell_type": "markdown",
   "source": [
    "\n",
    "## 筛选数据\n",
    "这一步骤主要思想为：将数据筛选至一个情绪比较突出的范围，并且只保留需要的列，以便后续的数据处理。\n",
    "\n",
    "先筛选出大框架，然后根据时间序列分析.py中的可视化结果，使用阈值筛选出情绪比较突出且集中的时间范围，进行人工标注。"
   ],
   "id": "18a8852bc1894ba5"
  },
  {
   "metadata": {
    "ExecuteTime": {
     "end_time": "2024-08-15T14:14:38.082917Z",
     "start_time": "2024-08-15T14:14:27.744288Z"
    }
   },
   "cell_type": "code",
   "source": [
    "# filter data into a specific time range, keep only necessary columns\n",
    "# error will come up says \"please specify a format\", it can be ignored.\n",
    "\n",
    "import pandas as pd\n",
    "\n",
    "df = pd.read_csv('../../data/processed/final_data.csv')\n",
    "df['created_at'] = pd.to_datetime(df['created_at'])\n",
    "df = df[(df['created_at'] >= '2019-11-07') & (df['created_at'] <= '2020-01-24')]\n",
    "df = df[['_id', 'created_at', 'display_text', 'extended_entities', 'sentiment', 'weighted_sentiment', 'dominant_topic', 'cleaned_text', 'influence_tweet_factor']]\n",
    "df.head()"
   ],
   "id": "2ba78d160ee05471",
   "outputs": [
    {
     "name": "stderr",
     "output_type": "stream",
     "text": [
      "/var/folders/sn/vtf5wp8x6vldjnk3w88mk9zr0000gn/T/ipykernel_7646/722079748.py:7: UserWarning: Could not infer format, so each element will be parsed individually, falling back to `dateutil`. To ensure parsing is consistent and as-expected, please specify a format.\n",
      "  df['created_at'] = pd.to_datetime(df['created_at'])\n"
     ]
    },
    {
     "data": {
      "text/plain": [
       "                    _id                created_at  \\\n",
       "15  1192617057394708480 2019-11-08 01:37:18+00:00   \n",
       "16  1192684541913100288 2019-11-08 06:05:28+00:00   \n",
       "17  1192725213294804992 2019-11-08 08:47:05+00:00   \n",
       "18  1192766676854435840 2019-11-08 11:31:50+00:00   \n",
       "19  1192932983407202304 2019-11-08 22:32:41+00:00   \n",
       "\n",
       "                                         display_text  \\\n",
       "15  If that’s what the fires look like from up her...   \n",
       "16  Progression of major fires today across NSW #N...   \n",
       "17  #Smoke from #nswfires in the northeast is not ...   \n",
       "18  This shows the dangerous conditions that have ...   \n",
       "19  Incredible vision from @NSWRFS of a crew from ...   \n",
       "\n",
       "                                    extended_entities  sentiment  \\\n",
       "15  {'media': [{'id': 1192617049744277504, 'id_str...     0.6239   \n",
       "16  {'media': [{'id': 1192684504340516864, 'id_str...     0.0000   \n",
       "17  {'media': [{'id': 1192725210136481794, 'id_str...     0.1154   \n",
       "18  {'media': [{'id': 1192766472902168576, 'id_str...    -0.7430   \n",
       "19  {'media': [{'id': 1192766472902168576, 'id_str...    -0.0276   \n",
       "\n",
       "    weighted_sentiment  dominant_topic  \\\n",
       "15            1.527748               6   \n",
       "16            0.000000               6   \n",
       "17            0.270429               6   \n",
       "18           -2.701052               6   \n",
       "19           -0.078089               6   \n",
       "\n",
       "                                         cleaned_text  influence_tweet_factor  \n",
       "15  fire look like nsw mid nth coast huge prayer t...                2.448706  \n",
       "16   progression major fire today across nsw nswfires                2.974742  \n",
       "17  smoke nswfires northeast visible satellite ima...                2.343409  \n",
       "18  show dangerous condition confronted firefighte...                3.635333  \n",
       "19  incredible vision nswrfs crew warringah hq hil...                2.829304  "
      ],
      "text/html": [
       "<div>\n",
       "<style scoped>\n",
       "    .dataframe tbody tr th:only-of-type {\n",
       "        vertical-align: middle;\n",
       "    }\n",
       "\n",
       "    .dataframe tbody tr th {\n",
       "        vertical-align: top;\n",
       "    }\n",
       "\n",
       "    .dataframe thead th {\n",
       "        text-align: right;\n",
       "    }\n",
       "</style>\n",
       "<table border=\"1\" class=\"dataframe\">\n",
       "  <thead>\n",
       "    <tr style=\"text-align: right;\">\n",
       "      <th></th>\n",
       "      <th>_id</th>\n",
       "      <th>created_at</th>\n",
       "      <th>display_text</th>\n",
       "      <th>extended_entities</th>\n",
       "      <th>sentiment</th>\n",
       "      <th>weighted_sentiment</th>\n",
       "      <th>dominant_topic</th>\n",
       "      <th>cleaned_text</th>\n",
       "      <th>influence_tweet_factor</th>\n",
       "    </tr>\n",
       "  </thead>\n",
       "  <tbody>\n",
       "    <tr>\n",
       "      <th>15</th>\n",
       "      <td>1192617057394708480</td>\n",
       "      <td>2019-11-08 01:37:18+00:00</td>\n",
       "      <td>If that’s what the fires look like from up her...</td>\n",
       "      <td>{'media': [{'id': 1192617049744277504, 'id_str...</td>\n",
       "      <td>0.6239</td>\n",
       "      <td>1.527748</td>\n",
       "      <td>6</td>\n",
       "      <td>fire look like nsw mid nth coast huge prayer t...</td>\n",
       "      <td>2.448706</td>\n",
       "    </tr>\n",
       "    <tr>\n",
       "      <th>16</th>\n",
       "      <td>1192684541913100288</td>\n",
       "      <td>2019-11-08 06:05:28+00:00</td>\n",
       "      <td>Progression of major fires today across NSW #N...</td>\n",
       "      <td>{'media': [{'id': 1192684504340516864, 'id_str...</td>\n",
       "      <td>0.0000</td>\n",
       "      <td>0.000000</td>\n",
       "      <td>6</td>\n",
       "      <td>progression major fire today across nsw nswfires</td>\n",
       "      <td>2.974742</td>\n",
       "    </tr>\n",
       "    <tr>\n",
       "      <th>17</th>\n",
       "      <td>1192725213294804992</td>\n",
       "      <td>2019-11-08 08:47:05+00:00</td>\n",
       "      <td>#Smoke from #nswfires in the northeast is not ...</td>\n",
       "      <td>{'media': [{'id': 1192725210136481794, 'id_str...</td>\n",
       "      <td>0.1154</td>\n",
       "      <td>0.270429</td>\n",
       "      <td>6</td>\n",
       "      <td>smoke nswfires northeast visible satellite ima...</td>\n",
       "      <td>2.343409</td>\n",
       "    </tr>\n",
       "    <tr>\n",
       "      <th>18</th>\n",
       "      <td>1192766676854435840</td>\n",
       "      <td>2019-11-08 11:31:50+00:00</td>\n",
       "      <td>This shows the dangerous conditions that have ...</td>\n",
       "      <td>{'media': [{'id': 1192766472902168576, 'id_str...</td>\n",
       "      <td>-0.7430</td>\n",
       "      <td>-2.701052</td>\n",
       "      <td>6</td>\n",
       "      <td>show dangerous condition confronted firefighte...</td>\n",
       "      <td>3.635333</td>\n",
       "    </tr>\n",
       "    <tr>\n",
       "      <th>19</th>\n",
       "      <td>1192932983407202304</td>\n",
       "      <td>2019-11-08 22:32:41+00:00</td>\n",
       "      <td>Incredible vision from @NSWRFS of a crew from ...</td>\n",
       "      <td>{'media': [{'id': 1192766472902168576, 'id_str...</td>\n",
       "      <td>-0.0276</td>\n",
       "      <td>-0.078089</td>\n",
       "      <td>6</td>\n",
       "      <td>incredible vision nswrfs crew warringah hq hil...</td>\n",
       "      <td>2.829304</td>\n",
       "    </tr>\n",
       "  </tbody>\n",
       "</table>\n",
       "</div>"
      ]
     },
     "execution_count": 88,
     "metadata": {},
     "output_type": "execute_result"
    }
   ],
   "execution_count": 88
  },
  {
   "metadata": {
    "ExecuteTime": {
     "end_time": "2024-08-15T14:14:48.065826Z",
     "start_time": "2024-08-15T14:14:41.207053Z"
    }
   },
   "cell_type": "code",
   "source": [
    "# extract media info into a new column\n",
    "import ast\n",
    "\n",
    "def extract_media_info(extended_entities):\n",
    "    if pd.isna(extended_entities) or extended_entities == '{}':\n",
    "        return [], 0, None\n",
    "    \n",
    "    try:\n",
    "        entities = ast.literal_eval(extended_entities)\n",
    "        media_list = [media['media_url_https'] for media in entities.get('media', [])]\n",
    "        media_count = len(media_list)\n",
    "        tweet_url = entities['media'][0]['url'] if media_count > 0 else None\n",
    "        return media_list, media_count, tweet_url\n",
    "    except Exception as e:\n",
    "        return [], 0, None\n",
    "\n",
    "# 应用函数并创建新列\n",
    "df['media_urls'], df['media_count'], df['tweet_url'] = zip(*df['extended_entities'].apply(extract_media_info))\n",
    "\n",
    "# 删除extended_entities列\n",
    "df = df.drop(columns=['extended_entities'])\n",
    "\n",
    "# 显示前几行结果以验证处理是否正确\n",
    "df.head()\n"
   ],
   "id": "1b4e29cecbd48049",
   "outputs": [
    {
     "data": {
      "text/plain": [
       "                    _id                created_at  \\\n",
       "15  1192617057394708480 2019-11-08 01:37:18+00:00   \n",
       "16  1192684541913100288 2019-11-08 06:05:28+00:00   \n",
       "17  1192725213294804992 2019-11-08 08:47:05+00:00   \n",
       "18  1192766676854435840 2019-11-08 11:31:50+00:00   \n",
       "19  1192932983407202304 2019-11-08 22:32:41+00:00   \n",
       "\n",
       "                                         display_text  sentiment  \\\n",
       "15  If that’s what the fires look like from up her...     0.6239   \n",
       "16  Progression of major fires today across NSW #N...     0.0000   \n",
       "17  #Smoke from #nswfires in the northeast is not ...     0.1154   \n",
       "18  This shows the dangerous conditions that have ...    -0.7430   \n",
       "19  Incredible vision from @NSWRFS of a crew from ...    -0.0276   \n",
       "\n",
       "    weighted_sentiment  dominant_topic  \\\n",
       "15            1.527748               6   \n",
       "16            0.000000               6   \n",
       "17            0.270429               6   \n",
       "18           -2.701052               6   \n",
       "19           -0.078089               6   \n",
       "\n",
       "                                         cleaned_text  influence_tweet_factor  \\\n",
       "15  fire look like nsw mid nth coast huge prayer t...                2.448706   \n",
       "16   progression major fire today across nsw nswfires                2.974742   \n",
       "17  smoke nswfires northeast visible satellite ima...                2.343409   \n",
       "18  show dangerous condition confronted firefighte...                3.635333   \n",
       "19  incredible vision nswrfs crew warringah hq hil...                2.829304   \n",
       "\n",
       "                                           media_urls  media_count  \\\n",
       "15  [https://pbs.twimg.com/media/EI0G41MVAAAqVzx.jpg]            1   \n",
       "16  [https://pbs.twimg.com/ext_tw_video_thumb/1192...            1   \n",
       "17  [https://pbs.twimg.com/media/EI1pQmDWkAIbDNG.p...            2   \n",
       "18  [https://pbs.twimg.com/ext_tw_video_thumb/1192...            1   \n",
       "19  [https://pbs.twimg.com/ext_tw_video_thumb/1192...            1   \n",
       "\n",
       "                  tweet_url  \n",
       "15  https://t.co/AlgiOgAHQI  \n",
       "16  https://t.co/KAZ3pW9i8O  \n",
       "17  https://t.co/eNsAxzo6Nc  \n",
       "18  https://t.co/lIhnF8P1Qf  \n",
       "19  https://t.co/9YA4PxNqzW  "
      ],
      "text/html": [
       "<div>\n",
       "<style scoped>\n",
       "    .dataframe tbody tr th:only-of-type {\n",
       "        vertical-align: middle;\n",
       "    }\n",
       "\n",
       "    .dataframe tbody tr th {\n",
       "        vertical-align: top;\n",
       "    }\n",
       "\n",
       "    .dataframe thead th {\n",
       "        text-align: right;\n",
       "    }\n",
       "</style>\n",
       "<table border=\"1\" class=\"dataframe\">\n",
       "  <thead>\n",
       "    <tr style=\"text-align: right;\">\n",
       "      <th></th>\n",
       "      <th>_id</th>\n",
       "      <th>created_at</th>\n",
       "      <th>display_text</th>\n",
       "      <th>sentiment</th>\n",
       "      <th>weighted_sentiment</th>\n",
       "      <th>dominant_topic</th>\n",
       "      <th>cleaned_text</th>\n",
       "      <th>influence_tweet_factor</th>\n",
       "      <th>media_urls</th>\n",
       "      <th>media_count</th>\n",
       "      <th>tweet_url</th>\n",
       "    </tr>\n",
       "  </thead>\n",
       "  <tbody>\n",
       "    <tr>\n",
       "      <th>15</th>\n",
       "      <td>1192617057394708480</td>\n",
       "      <td>2019-11-08 01:37:18+00:00</td>\n",
       "      <td>If that’s what the fires look like from up her...</td>\n",
       "      <td>0.6239</td>\n",
       "      <td>1.527748</td>\n",
       "      <td>6</td>\n",
       "      <td>fire look like nsw mid nth coast huge prayer t...</td>\n",
       "      <td>2.448706</td>\n",
       "      <td>[https://pbs.twimg.com/media/EI0G41MVAAAqVzx.jpg]</td>\n",
       "      <td>1</td>\n",
       "      <td>https://t.co/AlgiOgAHQI</td>\n",
       "    </tr>\n",
       "    <tr>\n",
       "      <th>16</th>\n",
       "      <td>1192684541913100288</td>\n",
       "      <td>2019-11-08 06:05:28+00:00</td>\n",
       "      <td>Progression of major fires today across NSW #N...</td>\n",
       "      <td>0.0000</td>\n",
       "      <td>0.000000</td>\n",
       "      <td>6</td>\n",
       "      <td>progression major fire today across nsw nswfires</td>\n",
       "      <td>2.974742</td>\n",
       "      <td>[https://pbs.twimg.com/ext_tw_video_thumb/1192...</td>\n",
       "      <td>1</td>\n",
       "      <td>https://t.co/KAZ3pW9i8O</td>\n",
       "    </tr>\n",
       "    <tr>\n",
       "      <th>17</th>\n",
       "      <td>1192725213294804992</td>\n",
       "      <td>2019-11-08 08:47:05+00:00</td>\n",
       "      <td>#Smoke from #nswfires in the northeast is not ...</td>\n",
       "      <td>0.1154</td>\n",
       "      <td>0.270429</td>\n",
       "      <td>6</td>\n",
       "      <td>smoke nswfires northeast visible satellite ima...</td>\n",
       "      <td>2.343409</td>\n",
       "      <td>[https://pbs.twimg.com/media/EI1pQmDWkAIbDNG.p...</td>\n",
       "      <td>2</td>\n",
       "      <td>https://t.co/eNsAxzo6Nc</td>\n",
       "    </tr>\n",
       "    <tr>\n",
       "      <th>18</th>\n",
       "      <td>1192766676854435840</td>\n",
       "      <td>2019-11-08 11:31:50+00:00</td>\n",
       "      <td>This shows the dangerous conditions that have ...</td>\n",
       "      <td>-0.7430</td>\n",
       "      <td>-2.701052</td>\n",
       "      <td>6</td>\n",
       "      <td>show dangerous condition confronted firefighte...</td>\n",
       "      <td>3.635333</td>\n",
       "      <td>[https://pbs.twimg.com/ext_tw_video_thumb/1192...</td>\n",
       "      <td>1</td>\n",
       "      <td>https://t.co/lIhnF8P1Qf</td>\n",
       "    </tr>\n",
       "    <tr>\n",
       "      <th>19</th>\n",
       "      <td>1192932983407202304</td>\n",
       "      <td>2019-11-08 22:32:41+00:00</td>\n",
       "      <td>Incredible vision from @NSWRFS of a crew from ...</td>\n",
       "      <td>-0.0276</td>\n",
       "      <td>-0.078089</td>\n",
       "      <td>6</td>\n",
       "      <td>incredible vision nswrfs crew warringah hq hil...</td>\n",
       "      <td>2.829304</td>\n",
       "      <td>[https://pbs.twimg.com/ext_tw_video_thumb/1192...</td>\n",
       "      <td>1</td>\n",
       "      <td>https://t.co/9YA4PxNqzW</td>\n",
       "    </tr>\n",
       "  </tbody>\n",
       "</table>\n",
       "</div>"
      ]
     },
     "execution_count": 89,
     "metadata": {},
     "output_type": "execute_result"
    }
   ],
   "execution_count": 89
  },
  {
   "metadata": {
    "ExecuteTime": {
     "end_time": "2024-08-15T14:14:49.289642Z",
     "start_time": "2024-08-15T14:14:49.281131Z"
    }
   },
   "cell_type": "code",
   "source": [
    "# count media levels \n",
    "df['media_count'].value_counts()"
   ],
   "id": "14ae2045f9a8ffcd",
   "outputs": [
    {
     "data": {
      "text/plain": [
       "media_count\n",
       "0    112265\n",
       "1     37506\n",
       "2      3382\n",
       "4      3018\n",
       "3      1499\n",
       "Name: count, dtype: int64"
      ]
     },
     "execution_count": 90,
     "metadata": {},
     "output_type": "execute_result"
    }
   ],
   "execution_count": 90
  },
  {
   "metadata": {
    "ExecuteTime": {
     "end_time": "2024-08-15T12:07:10.258560Z",
     "start_time": "2024-08-15T12:07:07.742131Z"
    }
   },
   "cell_type": "code",
   "source": [
    "# 生成json文件供第二次LDA Modeling使用 （see second_LDA_Modeling.ipynb）\n",
    "df.to_json('../../data/processed/final_data(filtered).json', orient='records')"
   ],
   "id": "eb16b68b4cc43579",
   "outputs": [],
   "execution_count": 85
  },
  {
   "metadata": {},
   "cell_type": "markdown",
   "source": [
    "#### 1. zoom into specific time range\n",
    "When entiment on any days has a change of +/- 5.0 compared to the previous day, keep these days\n",
    "\n",
    "找到情绪变化较大的时间段"
   ],
   "id": "d9d25c2ad9bc3c79"
  },
  {
   "metadata": {
    "ExecuteTime": {
     "end_time": "2024-08-15T14:14:53.603354Z",
     "start_time": "2024-08-15T14:14:53.447618Z"
    }
   },
   "cell_type": "code",
   "source": [
    "# 将数据按日期分组并计算每天的总情感得分\n",
    "df['date'] = df['created_at'].dt.date\n",
    "daily_sentiment = df.groupby('date')['sentiment'].sum().reset_index()\n",
    "\n",
    "# 计算每日情感变化\n",
    "# 第一天的变化设置为0\n",
    "daily_sentiment['sentiment_change'] = daily_sentiment['sentiment'].diff().fillna(0)\n",
    "\n",
    "# 筛选出情感变化显著的天数\n",
    "significant_changes = daily_sentiment[(daily_sentiment['sentiment_change'] >= 5.0) | \n",
    "                                      (daily_sentiment['sentiment_change'] <= -5.0)]\n",
    "\n",
    "# 获取这些天的日期列表\n",
    "significant_dates = significant_changes['date'].tolist()\n",
    "\n",
    "# 过滤出显著情感变化日期的数据\n",
    "filtered_df = df[df['date'].isin(significant_dates)]\n",
    "\n",
    "# 删除临时的date列\n",
    "filtered_df = filtered_df.drop(columns=['date'])\n",
    "\n",
    "# 显示前几行结果以验证处理是否正确\n",
    "filtered_df.head()"
   ],
   "id": "ad2661261c731803",
   "outputs": [
    {
     "data": {
      "text/plain": [
       "                     _id                created_at  \\\n",
       "131  1202428435454251009 2019-12-05 03:24:13+00:00   \n",
       "132  1202443701076643842 2019-12-05 04:24:53+00:00   \n",
       "133  1202444946684313601 2019-12-05 04:29:50+00:00   \n",
       "134  1202479131654590464 2019-12-05 06:45:40+00:00   \n",
       "135  1202481630171947008 2019-12-05 06:55:36+00:00   \n",
       "\n",
       "                                          display_text  sentiment  \\\n",
       "131  #LIVE: The Green Wattle Creek fire is now burn...    -0.8877   \n",
       "132  That blue dot, is Sydney. The air quality is g...    -0.0516   \n",
       "133  We are officially living through the longest p...    -0.6597   \n",
       "134  Here's the view from above - the North Black R...     0.5789   \n",
       "135  I finally took the plunge and breathed a bit b...     0.4404   \n",
       "\n",
       "     weighted_sentiment  dominant_topic  \\\n",
       "131           -1.270622               6   \n",
       "132           -0.097632               6   \n",
       "133           -2.019142               0   \n",
       "134            1.543376               6   \n",
       "135            0.077551               0   \n",
       "\n",
       "                                          cleaned_text  \\\n",
       "131  live green wattle creek fire burning emergency...   \n",
       "132  blue dot sydney air quality getting worse resp...   \n",
       "133  officially living longest period bushfire air ...   \n",
       "134  view north black range fire near braidwood dif...   \n",
       "135  finally took plunge breathed bit better today ...   \n",
       "\n",
       "     influence_tweet_factor  \\\n",
       "131                1.431364   \n",
       "132                1.892095   \n",
       "133                3.060698   \n",
       "134                2.666050   \n",
       "135                0.176091   \n",
       "\n",
       "                                            media_urls  media_count  \\\n",
       "131                                                 []            0   \n",
       "132  [https://pbs.twimg.com/media/EK_wKpYVAAAMK9c.jpg]            1   \n",
       "133  [https://pbs.twimg.com/media/EK_xQNNUYAIe-EC.j...            2   \n",
       "134  [https://pbs.twimg.com/ext_tw_video_thumb/1202...            1   \n",
       "135  [https://pbs.twimg.com/media/ELASpyoU4AAqr-7.jpg]            1   \n",
       "\n",
       "                   tweet_url  \n",
       "131                     None  \n",
       "132  https://t.co/4wuD2YnP1a  \n",
       "133  https://t.co/RVz3unWW6Q  \n",
       "134  https://t.co/Wwe9BOc175  \n",
       "135  https://t.co/9UpFLcywam  "
      ],
      "text/html": [
       "<div>\n",
       "<style scoped>\n",
       "    .dataframe tbody tr th:only-of-type {\n",
       "        vertical-align: middle;\n",
       "    }\n",
       "\n",
       "    .dataframe tbody tr th {\n",
       "        vertical-align: top;\n",
       "    }\n",
       "\n",
       "    .dataframe thead th {\n",
       "        text-align: right;\n",
       "    }\n",
       "</style>\n",
       "<table border=\"1\" class=\"dataframe\">\n",
       "  <thead>\n",
       "    <tr style=\"text-align: right;\">\n",
       "      <th></th>\n",
       "      <th>_id</th>\n",
       "      <th>created_at</th>\n",
       "      <th>display_text</th>\n",
       "      <th>sentiment</th>\n",
       "      <th>weighted_sentiment</th>\n",
       "      <th>dominant_topic</th>\n",
       "      <th>cleaned_text</th>\n",
       "      <th>influence_tweet_factor</th>\n",
       "      <th>media_urls</th>\n",
       "      <th>media_count</th>\n",
       "      <th>tweet_url</th>\n",
       "    </tr>\n",
       "  </thead>\n",
       "  <tbody>\n",
       "    <tr>\n",
       "      <th>131</th>\n",
       "      <td>1202428435454251009</td>\n",
       "      <td>2019-12-05 03:24:13+00:00</td>\n",
       "      <td>#LIVE: The Green Wattle Creek fire is now burn...</td>\n",
       "      <td>-0.8877</td>\n",
       "      <td>-1.270622</td>\n",
       "      <td>6</td>\n",
       "      <td>live green wattle creek fire burning emergency...</td>\n",
       "      <td>1.431364</td>\n",
       "      <td>[]</td>\n",
       "      <td>0</td>\n",
       "      <td>None</td>\n",
       "    </tr>\n",
       "    <tr>\n",
       "      <th>132</th>\n",
       "      <td>1202443701076643842</td>\n",
       "      <td>2019-12-05 04:24:53+00:00</td>\n",
       "      <td>That blue dot, is Sydney. The air quality is g...</td>\n",
       "      <td>-0.0516</td>\n",
       "      <td>-0.097632</td>\n",
       "      <td>6</td>\n",
       "      <td>blue dot sydney air quality getting worse resp...</td>\n",
       "      <td>1.892095</td>\n",
       "      <td>[https://pbs.twimg.com/media/EK_wKpYVAAAMK9c.jpg]</td>\n",
       "      <td>1</td>\n",
       "      <td>https://t.co/4wuD2YnP1a</td>\n",
       "    </tr>\n",
       "    <tr>\n",
       "      <th>133</th>\n",
       "      <td>1202444946684313601</td>\n",
       "      <td>2019-12-05 04:29:50+00:00</td>\n",
       "      <td>We are officially living through the longest p...</td>\n",
       "      <td>-0.6597</td>\n",
       "      <td>-2.019142</td>\n",
       "      <td>0</td>\n",
       "      <td>officially living longest period bushfire air ...</td>\n",
       "      <td>3.060698</td>\n",
       "      <td>[https://pbs.twimg.com/media/EK_xQNNUYAIe-EC.j...</td>\n",
       "      <td>2</td>\n",
       "      <td>https://t.co/RVz3unWW6Q</td>\n",
       "    </tr>\n",
       "    <tr>\n",
       "      <th>134</th>\n",
       "      <td>1202479131654590464</td>\n",
       "      <td>2019-12-05 06:45:40+00:00</td>\n",
       "      <td>Here's the view from above - the North Black R...</td>\n",
       "      <td>0.5789</td>\n",
       "      <td>1.543376</td>\n",
       "      <td>6</td>\n",
       "      <td>view north black range fire near braidwood dif...</td>\n",
       "      <td>2.666050</td>\n",
       "      <td>[https://pbs.twimg.com/ext_tw_video_thumb/1202...</td>\n",
       "      <td>1</td>\n",
       "      <td>https://t.co/Wwe9BOc175</td>\n",
       "    </tr>\n",
       "    <tr>\n",
       "      <th>135</th>\n",
       "      <td>1202481630171947008</td>\n",
       "      <td>2019-12-05 06:55:36+00:00</td>\n",
       "      <td>I finally took the plunge and breathed a bit b...</td>\n",
       "      <td>0.4404</td>\n",
       "      <td>0.077551</td>\n",
       "      <td>0</td>\n",
       "      <td>finally took plunge breathed bit better today ...</td>\n",
       "      <td>0.176091</td>\n",
       "      <td>[https://pbs.twimg.com/media/ELASpyoU4AAqr-7.jpg]</td>\n",
       "      <td>1</td>\n",
       "      <td>https://t.co/9UpFLcywam</td>\n",
       "    </tr>\n",
       "  </tbody>\n",
       "</table>\n",
       "</div>"
      ]
     },
     "execution_count": 91,
     "metadata": {},
     "output_type": "execute_result"
    }
   ],
   "execution_count": 91
  },
  {
   "metadata": {
    "ExecuteTime": {
     "end_time": "2024-08-15T14:14:54.585328Z",
     "start_time": "2024-08-15T14:14:54.535720Z"
    }
   },
   "cell_type": "code",
   "source": "filtered_df.count()",
   "id": "995e9dd287282e69",
   "outputs": [
    {
     "data": {
      "text/plain": [
       "_id                       157191\n",
       "created_at                157191\n",
       "display_text              157191\n",
       "sentiment                 157191\n",
       "weighted_sentiment        157191\n",
       "dominant_topic            157191\n",
       "cleaned_text              157191\n",
       "influence_tweet_factor    157191\n",
       "media_urls                157191\n",
       "media_count               157191\n",
       "tweet_url                  45112\n",
       "dtype: int64"
      ]
     },
     "execution_count": 92,
     "metadata": {},
     "output_type": "execute_result"
    }
   ],
   "execution_count": 92
  },
  {
   "metadata": {},
   "cell_type": "markdown",
   "source": [
    "#### 2. filter out low influence tweets\n",
    "\n",
    "过滤掉影响力较低的推文"
   ],
   "id": "e76142fe486ecbf5"
  },
  {
   "metadata": {
    "ExecuteTime": {
     "end_time": "2024-08-15T14:14:57.013548Z",
     "start_time": "2024-08-15T14:14:56.997400Z"
    }
   },
   "cell_type": "code",
   "source": [
    "# 查看推文影响力的分布 找到前25%\n",
    "filtered_df['influence_tweet_factor'].describe()"
   ],
   "id": "9adfbb35d9cfba1f",
   "outputs": [
    {
     "data": {
      "text/plain": [
       "count    157191.000000\n",
       "mean          0.327291\n",
       "std           0.626942\n",
       "min           0.000000\n",
       "25%           0.000000\n",
       "50%           0.000000\n",
       "75%           0.477121\n",
       "max           5.769395\n",
       "Name: influence_tweet_factor, dtype: float64"
      ]
     },
     "execution_count": 93,
     "metadata": {},
     "output_type": "execute_result"
    }
   ],
   "execution_count": 93
  },
  {
   "metadata": {
    "ExecuteTime": {
     "end_time": "2024-08-15T14:14:58.263601Z",
     "start_time": "2024-08-15T14:14:58.068463Z"
    }
   },
   "cell_type": "code",
   "source": [
    "# 去除影响力低的推文 仅保留前25%的推文 0.75 = 0.477121\n",
    "filtered_new_df = filtered_df[filtered_df['influence_tweet_factor'] >= 0.477121]"
   ],
   "id": "b222958a1dc6a2d2",
   "outputs": [],
   "execution_count": 94
  },
  {
   "metadata": {
    "ExecuteTime": {
     "end_time": "2024-08-15T14:15:00.289049Z",
     "start_time": "2024-08-15T14:15:00.204281Z"
    }
   },
   "cell_type": "code",
   "source": "filtered_new_df.count()",
   "id": "8665ce5d59866011",
   "outputs": [
    {
     "data": {
      "text/plain": [
       "_id                       40691\n",
       "created_at                40691\n",
       "display_text              40691\n",
       "sentiment                 40691\n",
       "weighted_sentiment        40691\n",
       "dominant_topic            40691\n",
       "cleaned_text              40691\n",
       "influence_tweet_factor    40691\n",
       "media_urls                40691\n",
       "media_count               40691\n",
       "tweet_url                 17091\n",
       "dtype: int64"
      ]
     },
     "execution_count": 95,
     "metadata": {},
     "output_type": "execute_result"
    }
   ],
   "execution_count": 95
  },
  {
   "metadata": {},
   "cell_type": "markdown",
   "source": [
    "#### 3. filter out sentiment outliers\n",
    "\n",
    "过滤掉加权情感得分异常的推文"
   ],
   "id": "18f307351f8b1c26"
  },
  {
   "metadata": {
    "ExecuteTime": {
     "end_time": "2024-08-15T15:23:26.391401Z",
     "start_time": "2024-08-15T15:23:26.028434Z"
    }
   },
   "cell_type": "code",
   "source": [
    "# 使用可视化检查结果\n",
    "import matplotlib.pyplot as plt\n",
    "import seaborn as sns\n",
    "\n",
    "plt.figure(figsize=(12, 6))\n",
    "sns.histplot(filtered_new_df['weighted_sentiment'], kde=True)\n",
    "plt.title('Distribution of Sentiment Scores')\n",
    "plt.show()\n"
   ],
   "id": "d48312c65b76ea2f",
   "outputs": [
    {
     "data": {
      "text/plain": [
       "<Figure size 1200x600 with 1 Axes>"
      ],
      "image/png": "[encoded data removed]"
     },
     "metadata": {},
     "output_type": "display_data"
    }
   ],
   "execution_count": 101
  },
  {
   "metadata": {
    "ExecuteTime": {
     "end_time": "2024-08-15T15:23:36.083913Z",
     "start_time": "2024-08-15T15:23:35.933282Z"
    }
   },
   "cell_type": "code",
   "source": [
    "# 使用残差分析\n",
    "from scipy.stats import probplot\n",
    "\n",
    "plt.figure(figsize=(12, 6))\n",
    "probplot(filtered_new_df['weighted_sentiment'], plot=plt)\n",
    "plt.title('QQ Plot of weighted sentiment Scores')\n",
    "plt.show()\n"
   ],
   "id": "c6cb66528690af10",
   "outputs": [
    {
     "data": {
      "text/plain": [
       "<Figure size 1200x600 with 1 Axes>"
      ],
      "image/png": "[encoded data removed]"
     },
     "metadata": {},
     "output_type": "display_data"
    }
   ],
   "execution_count": 102
  },
  {
   "metadata": {},
   "cell_type": "markdown",
   "source": [
    "#### 3.1 \n",
    "上方图像表明数据在极端值上有一些偏差，但是总体来说是正态分布的。根据数据的分布，使用分位数2作为阈值，仅取得分在这个范围外的推文作为异常值来进行标注。也就是说，只保留异常值，其他的推文都被过滤掉。"
   ],
   "id": "5bace872316d9676"
  },
  {
   "metadata": {
    "ExecuteTime": {
     "end_time": "2024-08-15T14:21:06.575166Z",
     "start_time": "2024-08-15T14:21:06.429881Z"
    }
   },
   "cell_type": "code",
   "source": [
    "# 使用分位数过滤掉异常值\n",
    "lower_quantile = filtered_new_df['weighted_sentiment'].quantile(0.25)  # 取低于2分位数的推文 约尾25%的推文\n",
    "upper_quantile = filtered_new_df['weighted_sentiment'].quantile(0.75)  # 取高于2分位数的推文 约头25%的推文\n",
    "\n",
    "filtered_outliers_df = filtered_new_df[\n",
    "    (filtered_new_df['weighted_sentiment'] < lower_quantile) |\n",
    "    (filtered_new_df['weighted_sentiment'] > upper_quantile)\n",
    "]\n",
    "\n",
    "filtered_outliers_df.count()\n"
   ],
   "id": "fa9bb8b2343a142a",
   "outputs": [
    {
     "data": {
      "text/plain": [
       "_id                       20345\n",
       "created_at                20345\n",
       "display_text              20345\n",
       "sentiment                 20345\n",
       "weighted_sentiment        20345\n",
       "dominant_topic            20345\n",
       "cleaned_text              20345\n",
       "influence_tweet_factor    20345\n",
       "media_urls                20345\n",
       "media_count               20345\n",
       "tweet_url                  9116\n",
       "dtype: int64"
      ]
     },
     "execution_count": 98,
     "metadata": {},
     "output_type": "execute_result"
    }
   ],
   "execution_count": 98
  },
  {
   "metadata": {},
   "cell_type": "markdown",
   "source": [
    "#### 4. 生成标注数据集 \n",
    "\n",
    "1. 0值上影响力特别高的推文: 这些推文不给出情绪 但是有很高的影响力 识别这些推文肯定是一个重要方向（考虑前10%？）\n",
    "2. 重要事件发生后的推文：事件发生后影响力很高的推文\n",
    "3. 子topic LDA建模，从second_LDA_Medeling.ipynb中提取的主题模型，将推文分为不同的主题，然后分析每个主题的情感/影响力/情感变化以及其他因素\n",
    "4. "
   ],
   "id": "9bc48edd3a1eeeb6"
  },
  {
   "metadata": {
    "ExecuteTime": {
     "end_time": "2024-08-15T15:57:56.641130Z",
     "start_time": "2024-08-15T15:57:55.961169Z"
    }
   },
   "cell_type": "code",
   "source": [
    "# 4.1  零值情绪推文 前10%影响力\n",
    "\n",
    "# 筛选情感分数为0的推文\n",
    "zero_sentiment_df = filtered_new_df[filtered_new_df['weighted_sentiment'] == 0]\n",
    "\n",
    "# 计算影响力的90%分位数\n",
    "influence_threshold = zero_sentiment_df['influence_tweet_factor'].quantile(0.9)\n",
    "\n",
    "# 筛选出影响力高于阈值的推文\n",
    "high_influence_zero_sentiment_df = zero_sentiment_df[zero_sentiment_df['influence_tweet_factor'] > influence_threshold]\n",
    "\n",
    "high_influence_zero_sentiment_df.count()\n"
   ],
   "id": "ccc6048e33bcbb78",
   "outputs": [
    {
     "data": {
      "text/plain": [
       "_id                       541\n",
       "created_at                541\n",
       "display_text              541\n",
       "sentiment                 541\n",
       "weighted_sentiment        541\n",
       "dominant_topic            541\n",
       "cleaned_text              541\n",
       "influence_tweet_factor    541\n",
       "media_urls                541\n",
       "media_count               541\n",
       "tweet_url                 306\n",
       "dtype: int64"
      ]
     },
     "execution_count": 107,
     "metadata": {},
     "output_type": "execute_result"
    }
   ],
   "execution_count": 107
  },
  {
   "metadata": {
    "ExecuteTime": {
     "end_time": "2024-08-15T16:25:46.324902Z",
     "start_time": "2024-08-15T16:25:46.195198Z"
    }
   },
   "cell_type": "code",
   "source": [
    "# 4.2 重要事件发生后两天的推文 前10%影响力\n",
    "\n",
    "# 事件列表 需要再次核实完整性和确认reference  \n",
    "events = {\n",
    "    '2019-09-01 00:00:00': ['大火开始', 'N'],\n",
    "    '2019-10-26 00:00:00': ['Gospers大火', 'N'],\n",
    "    '2019-11-08 00:00:00': ['Nymboida火灾', 'N'],\n",
    "    '2019-11-11 00:00:00': ['紧急状态', 'N'],\n",
    "    '2019-12-20 00:00:00': ['东吉普斯兰火', 'N'],\n",
    "    '2019-12-30 00:00:00': ['吉普斯兰火', 'N'],\n",
    "    '2019-12-31 00:00:00': ['火灾合并', 'N'],\n",
    "    '2020-01-01 00:00:00': ['小镇被困', 'N'],\n",
    "    '2020-01-02 00:00:00': ['吉普斯兰蔓延', 'N'],\n",
    "    '2020-01-03 00:00:00': ['袋鼠岛火', 'N'],\n",
    "    '2020-01-04 00:00:00': ['彭里斯高温', 'N'],\n",
    "    '2020-01-05 00:00:00': ['贝加谷火', 'N'],\n",
    "    '2020-01-06 00:00:00': ['政府基金', 'P'],\n",
    "    '2020-01-15 00:00:00': ['雷阵雨缓解', 'P'],\n",
    "    '2020-01-23 00:00:00': ['飞机坠毁', 'N'],\n",
    "    '2020-02-09 00:00:00': ['猛烈降雨', 'P'],\n",
    "    '2020-03-04 00:00:00': ['火灾扑灭', 'P'],\n",
    "    '2020-05-01 00:00:00': ['最后火灾', 'P']\n",
    "}\n",
    "\n",
    "\n",
    "# 筛选出重要事件后2天内的推文 只保留影响力最高的前10%\n",
    "from datetime import timedelta\n",
    "\n",
    "important_event_tweets = []\n",
    "for event_date, event_info in events.items():\n",
    "    event_date = pd.to_datetime(event_date)\n",
    "    \n",
    "    # 筛选出在事件发生后2天内的推文\n",
    "    event_tweets = filtered_new_df[(filtered_new_df['created_at'] >= event_date) & \n",
    "                                   (filtered_new_df['created_at'] <= event_date + timedelta(days=2))]\n",
    "    \n",
    "    # 筛选出影响力高于阈值的推文 仅保留前10%\n",
    "    influence_threshold = event_tweets['influence_tweet_factor'].quantile(0.9)\n",
    "    high_influence_event_tweets = event_tweets[event_tweets['influence_tweet_factor'] > influence_threshold]\n",
    "    \n",
    "    important_event_tweets.append(high_influence_event_tweets)\n",
    "    \n",
    "# 合并为一个DataFrame\n",
    "important_event_tweets_df = pd.concat(important_event_tweets)\n",
    "\n",
    "important_event_tweets_df.count()\n"
   ],
   "id": "6d1ddb1348d6164d",
   "outputs": [
    {
     "data": {
      "text/plain": [
       "_id                       3817\n",
       "created_at                3817\n",
       "display_text              3817\n",
       "sentiment                 3817\n",
       "weighted_sentiment        3817\n",
       "dominant_topic            3817\n",
       "cleaned_text              3817\n",
       "influence_tweet_factor    3817\n",
       "media_urls                3817\n",
       "media_count               3817\n",
       "tweet_url                 1981\n",
       "event_date                   0\n",
       "dtype: int64"
      ]
     },
     "execution_count": 125,
     "metadata": {},
     "output_type": "execute_result"
    }
   ],
   "execution_count": 125
  },
  {
   "metadata": {
    "ExecuteTime": {
     "end_time": "2024-08-15T16:32:04.161230Z",
     "start_time": "2024-08-15T16:32:04.133979Z"
    }
   },
   "cell_type": "code",
   "source": [
    "# 4.3 子topic LDA建模\n",
    "\n",
    "# 等待二次建模结果"
   ],
   "id": "46c8a4154ddee510",
   "outputs": [],
   "execution_count": 126
  }
 ],
 "metadata": {
  "kernelspec": {
   "display_name": "Python 3",
   "language": "python",
   "name": "python3"
  },
  "language_info": {
   "codemirror_mode": {
    "name": "ipython",
    "version": 2
   },
   "file_extension": ".py",
   "mimetype": "text/x-python",
   "name": "python",
   "nbconvert_exporter": "python",
   "pygments_lexer": "ipython2",
   "version": "2.7.6"
  }
 },
 "nbformat": 4,
 "nbformat_minor": 5
}
